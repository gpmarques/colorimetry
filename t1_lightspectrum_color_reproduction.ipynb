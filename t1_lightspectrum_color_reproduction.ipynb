{
 "cells": [
  {
   "cell_type": "code",
   "execution_count": 1,
   "metadata": {},
   "outputs": [],
   "source": [
    "import pandas as pd\n",
    "import matplotlib.pyplot as plt\n",
    "import numpy as np"
   ]
  },
  {
   "cell_type": "code",
   "execution_count": 2,
   "metadata": {},
   "outputs": [
    {
     "data": {
      "text/html": [
       "<div>\n",
       "<style scoped>\n",
       "    .dataframe tbody tr th:only-of-type {\n",
       "        vertical-align: middle;\n",
       "    }\n",
       "\n",
       "    .dataframe tbody tr th {\n",
       "        vertical-align: top;\n",
       "    }\n",
       "\n",
       "    .dataframe thead th {\n",
       "        text-align: right;\n",
       "    }\n",
       "</style>\n",
       "<table border=\"1\" class=\"dataframe\">\n",
       "  <thead>\n",
       "    <tr style=\"text-align: right;\">\n",
       "      <th></th>\n",
       "      <th>nm</th>\n",
       "      <th>CIE A</th>\n",
       "      <th>CIE D65</th>\n",
       "      <th>VM(l)</th>\n",
       "      <th>V'(l)</th>\n",
       "      <th>x bar</th>\n",
       "      <th>y bar</th>\n",
       "      <th>z bar</th>\n",
       "      <th>x bar.1</th>\n",
       "      <th>y bar.1</th>\n",
       "      <th>z bar.1</th>\n",
       "    </tr>\n",
       "  </thead>\n",
       "  <tbody>\n",
       "    <tr>\n",
       "      <td>count</td>\n",
       "      <td>401.000000</td>\n",
       "      <td>401.000000</td>\n",
       "      <td>401.000000</td>\n",
       "      <td>401.000000</td>\n",
       "      <td>4.010000e+02</td>\n",
       "      <td>401.000000</td>\n",
       "      <td>401.000000</td>\n",
       "      <td>401.000000</td>\n",
       "      <td>401.000000</td>\n",
       "      <td>401.000000</td>\n",
       "      <td>180.000000</td>\n",
       "    </tr>\n",
       "    <tr>\n",
       "      <td>mean</td>\n",
       "      <td>580.000000</td>\n",
       "      <td>117.968047</td>\n",
       "      <td>87.872599</td>\n",
       "      <td>0.268041</td>\n",
       "      <td>2.420731e-01</td>\n",
       "      <td>0.266472</td>\n",
       "      <td>0.266475</td>\n",
       "      <td>0.266449</td>\n",
       "      <td>0.290892</td>\n",
       "      <td>0.290927</td>\n",
       "      <td>0.648178</td>\n",
       "    </tr>\n",
       "    <tr>\n",
       "      <td>std</td>\n",
       "      <td>115.902977</td>\n",
       "      <td>73.707137</td>\n",
       "      <td>18.140484</td>\n",
       "      <td>0.347921</td>\n",
       "      <td>3.374294e-01</td>\n",
       "      <td>0.329757</td>\n",
       "      <td>0.349028</td>\n",
       "      <td>0.528957</td>\n",
       "      <td>0.353109</td>\n",
       "      <td>0.351927</td>\n",
       "      <td>0.725886</td>\n",
       "    </tr>\n",
       "    <tr>\n",
       "      <td>min</td>\n",
       "      <td>380.000000</td>\n",
       "      <td>9.795100</td>\n",
       "      <td>46.418200</td>\n",
       "      <td>0.000015</td>\n",
       "      <td>1.390000e-07</td>\n",
       "      <td>0.000042</td>\n",
       "      <td>0.000015</td>\n",
       "      <td>0.000000</td>\n",
       "      <td>0.000033</td>\n",
       "      <td>0.000013</td>\n",
       "      <td>0.000047</td>\n",
       "    </tr>\n",
       "    <tr>\n",
       "      <td>25%</td>\n",
       "      <td>480.000000</td>\n",
       "      <td>48.242300</td>\n",
       "      <td>73.074500</td>\n",
       "      <td>0.003458</td>\n",
       "      <td>7.150000e-05</td>\n",
       "      <td>0.007582</td>\n",
       "      <td>0.001704</td>\n",
       "      <td>0.000000</td>\n",
       "      <td>0.007116</td>\n",
       "      <td>0.002976</td>\n",
       "      <td>0.031871</td>\n",
       "    </tr>\n",
       "    <tr>\n",
       "      <td>50%</td>\n",
       "      <td>580.000000</td>\n",
       "      <td>114.436000</td>\n",
       "      <td>88.838900</td>\n",
       "      <td>0.060000</td>\n",
       "      <td>2.113000e-02</td>\n",
       "      <td>0.113275</td>\n",
       "      <td>0.060000</td>\n",
       "      <td>0.001650</td>\n",
       "      <td>0.135200</td>\n",
       "      <td>0.096275</td>\n",
       "      <td>0.264143</td>\n",
       "    </tr>\n",
       "    <tr>\n",
       "      <td>75%</td>\n",
       "      <td>680.000000</td>\n",
       "      <td>185.429000</td>\n",
       "      <td>104.405000</td>\n",
       "      <td>0.503000</td>\n",
       "      <td>4.650000e-01</td>\n",
       "      <td>0.359700</td>\n",
       "      <td>0.503000</td>\n",
       "      <td>0.168561</td>\n",
       "      <td>0.394750</td>\n",
       "      <td>0.561180</td>\n",
       "      <td>1.291265</td>\n",
       "    </tr>\n",
       "    <tr>\n",
       "      <td>max</td>\n",
       "      <td>780.000000</td>\n",
       "      <td>241.675000</td>\n",
       "      <td>117.812000</td>\n",
       "      <td>1.000000</td>\n",
       "      <td>1.000000e+00</td>\n",
       "      <td>1.062910</td>\n",
       "      <td>1.000000</td>\n",
       "      <td>1.782968</td>\n",
       "      <td>1.134300</td>\n",
       "      <td>1.000000</td>\n",
       "      <td>2.027300</td>\n",
       "    </tr>\n",
       "  </tbody>\n",
       "</table>\n",
       "</div>"
      ],
      "text/plain": [
       "               nm       CIE A     CIE D65       VM(l)         V'(l)  \\\n",
       "count  401.000000  401.000000  401.000000  401.000000  4.010000e+02   \n",
       "mean   580.000000  117.968047   87.872599    0.268041  2.420731e-01   \n",
       "std    115.902977   73.707137   18.140484    0.347921  3.374294e-01   \n",
       "min    380.000000    9.795100   46.418200    0.000015  1.390000e-07   \n",
       "25%    480.000000   48.242300   73.074500    0.003458  7.150000e-05   \n",
       "50%    580.000000  114.436000   88.838900    0.060000  2.113000e-02   \n",
       "75%    680.000000  185.429000  104.405000    0.503000  4.650000e-01   \n",
       "max    780.000000  241.675000  117.812000    1.000000  1.000000e+00   \n",
       "\n",
       "            x bar       y bar       z bar     x bar.1     y bar.1     z bar.1  \n",
       "count  401.000000  401.000000  401.000000  401.000000  401.000000  180.000000  \n",
       "mean     0.266472    0.266475    0.266449    0.290892    0.290927    0.648178  \n",
       "std      0.329757    0.349028    0.528957    0.353109    0.351927    0.725886  \n",
       "min      0.000042    0.000015    0.000000    0.000033    0.000013    0.000047  \n",
       "25%      0.007582    0.001704    0.000000    0.007116    0.002976    0.031871  \n",
       "50%      0.113275    0.060000    0.001650    0.135200    0.096275    0.264143  \n",
       "75%      0.359700    0.503000    0.168561    0.394750    0.561180    1.291265  \n",
       "max      1.062910    1.000000    1.782968    1.134300    1.000000    2.027300  "
      ]
     },
     "execution_count": 2,
     "metadata": {},
     "output_type": "execute_result"
    }
   ],
   "source": [
    "df = pd.read_excel(\"all_1nm_data.xls\", skiprows=range(0, 3))\n",
    "visible_light_df = df[(df.nm > 379) & (df.nm < 781)]\n",
    "visible_light_df.describe()"
   ]
  },
  {
   "cell_type": "code",
   "execution_count": 3,
   "metadata": {},
   "outputs": [
    {
     "data": {
      "text/html": [
       "<div>\n",
       "<style scoped>\n",
       "    .dataframe tbody tr th:only-of-type {\n",
       "        vertical-align: middle;\n",
       "    }\n",
       "\n",
       "    .dataframe tbody tr th {\n",
       "        vertical-align: top;\n",
       "    }\n",
       "\n",
       "    .dataframe thead th {\n",
       "        text-align: right;\n",
       "    }\n",
       "</style>\n",
       "<table border=\"1\" class=\"dataframe\">\n",
       "  <thead>\n",
       "    <tr style=\"text-align: right;\">\n",
       "      <th></th>\n",
       "      <th>nm</th>\n",
       "      <th>CIE A</th>\n",
       "      <th>CIE D65</th>\n",
       "      <th>VM(l)</th>\n",
       "      <th>V'(l)</th>\n",
       "      <th>x bar</th>\n",
       "      <th>y bar</th>\n",
       "      <th>z bar</th>\n",
       "      <th>x bar.1</th>\n",
       "      <th>y bar.1</th>\n",
       "      <th>z bar.1</th>\n",
       "    </tr>\n",
       "  </thead>\n",
       "  <tbody>\n",
       "    <tr>\n",
       "      <td>80</td>\n",
       "      <td>380</td>\n",
       "      <td>9.7951</td>\n",
       "      <td>49.9755</td>\n",
       "      <td>0.0002</td>\n",
       "      <td>0.000589</td>\n",
       "      <td>0.001368</td>\n",
       "      <td>0.000039</td>\n",
       "      <td>0.00645</td>\n",
       "      <td>0.00016</td>\n",
       "      <td>0.000017</td>\n",
       "      <td>0.000705</td>\n",
       "    </tr>\n",
       "  </tbody>\n",
       "</table>\n",
       "</div>"
      ],
      "text/plain": [
       "     nm   CIE A  CIE D65   VM(l)     V'(l)     x bar     y bar    z bar  \\\n",
       "80  380  9.7951  49.9755  0.0002  0.000589  0.001368  0.000039  0.00645   \n",
       "\n",
       "    x bar.1   y bar.1   z bar.1  \n",
       "80  0.00016  0.000017  0.000705  "
      ]
     },
     "execution_count": 3,
     "metadata": {},
     "output_type": "execute_result"
    }
   ],
   "source": [
    "visible_light_df.head(1)  # sanity check"
   ]
  },
  {
   "cell_type": "code",
   "execution_count": 4,
   "metadata": {},
   "outputs": [
    {
     "data": {
      "text/plain": [
       "<matplotlib.axes._subplots.AxesSubplot at 0x118c75080>"
      ]
     },
     "execution_count": 4,
     "metadata": {},
     "output_type": "execute_result"
    },
    {
     "data": {
      "image/png": "[encoded data removed]",
      "text/plain": [
       "<Figure size 432x288 with 1 Axes>"
      ]
     },
     "metadata": {
      "needs_background": "light"
     },
     "output_type": "display_data"
    }
   ],
   "source": [
    "ax = plt.gca()\n",
    "visible_light_df.plot(kind=\"line\", x=\"nm\", y=\"CIE D65\", ax=ax)\n",
    "visible_light_df.plot(kind=\"line\", x=\"nm\", y=\"CIE A\", ax=ax)"
   ]
  },
  {
   "cell_type": "code",
   "execution_count": 5,
   "metadata": {},
   "outputs": [
    {
     "data": {
      "text/plain": [
       "<matplotlib.axes._subplots.AxesSubplot at 0x118d67be0>"
      ]
     },
     "execution_count": 5,
     "metadata": {},
     "output_type": "execute_result"
    },
    {
     "data": {
      "image/png": "[encoded data removed]",
      "text/plain": [
       "<Figure size 432x288 with 1 Axes>"
      ]
     },
     "metadata": {
      "needs_background": "light"
     },
     "output_type": "display_data"
    }
   ],
   "source": [
    "ax = plt.gca()\n",
    "visible_light_df.plot(kind=\"line\", x=\"nm\", y=\"x bar\", ax=ax)\n",
    "visible_light_df.plot(kind=\"line\", x=\"nm\", y=\"y bar\", ax=ax)\n",
    "visible_light_df.plot(kind=\"line\", x=\"nm\", y=\"z bar\", ax=ax)"
   ]
  },
  {
   "cell_type": "code",
   "execution_count": 7,
   "metadata": {},
   "outputs": [],
   "source": [
    "xyz_to_rgb = np.array([\n",
    "    [3.240710, -1.537260, -0.498571],\n",
    "    [-0.969258, 1.875990, 0.041556],\n",
    "    [0.055635, -0.203996, 1.057070]\n",
    "])"
   ]
  },
  {
   "cell_type": "code",
   "execution_count": 12,
   "metadata": {},
   "outputs": [
    {
     "name": "stdout",
     "output_type": "stream",
     "text": [
      "xyzbar shape: (401, 3) \n",
      "cieD65 shape: (401,)\n"
     ]
    }
   ],
   "source": [
    "cieD65 = visible_light_df[\"CIE D65\"].to_numpy(dtype=np.float32)\n",
    "xyzbar = visible_light_df[['x bar', 'y bar', 'z bar']].to_numpy(\n",
    "    dtype=np.float32)\n",
    "print(\"xyzbar shape: {0} \\ncieD65 shape: {1}\".format(xyzbar.shape, cieD65.shape))"
   ]
  },
  {
   "cell_type": "code",
   "execution_count": 13,
   "metadata": {},
   "outputs": [
    {
     "data": {
      "text/html": [
       "<div>\n",
       "<style scoped>\n",
       "    .dataframe tbody tr th:only-of-type {\n",
       "        vertical-align: middle;\n",
       "    }\n",
       "\n",
       "    .dataframe tbody tr th {\n",
       "        vertical-align: top;\n",
       "    }\n",
       "\n",
       "    .dataframe thead th {\n",
       "        text-align: right;\n",
       "    }\n",
       "</style>\n",
       "<table border=\"1\" class=\"dataframe\">\n",
       "  <thead>\n",
       "    <tr style=\"text-align: right;\">\n",
       "      <th></th>\n",
       "      <th>No.</th>\n",
       "      <th>Color name</th>\n",
       "      <th>380</th>\n",
       "      <th>390</th>\n",
       "      <th>400</th>\n",
       "      <th>410</th>\n",
       "      <th>420</th>\n",
       "      <th>430</th>\n",
       "      <th>440</th>\n",
       "      <th>450</th>\n",
       "      <th>...</th>\n",
       "      <th>640</th>\n",
       "      <th>650</th>\n",
       "      <th>660</th>\n",
       "      <th>670</th>\n",
       "      <th>680</th>\n",
       "      <th>690</th>\n",
       "      <th>700</th>\n",
       "      <th>710</th>\n",
       "      <th>720</th>\n",
       "      <th>730</th>\n",
       "    </tr>\n",
       "  </thead>\n",
       "  <tbody>\n",
       "    <tr>\n",
       "      <td>23</td>\n",
       "      <td>24</td>\n",
       "      <td>black 2 (1.5 D)</td>\n",
       "      <td>0.031118</td>\n",
       "      <td>0.031818</td>\n",
       "      <td>0.032134</td>\n",
       "      <td>0.032363</td>\n",
       "      <td>0.032572</td>\n",
       "      <td>0.032659</td>\n",
       "      <td>0.032684</td>\n",
       "      <td>0.032463</td>\n",
       "      <td>...</td>\n",
       "      <td>0.031603</td>\n",
       "      <td>0.031615</td>\n",
       "      <td>0.031699</td>\n",
       "      <td>0.03184</td>\n",
       "      <td>0.031998</td>\n",
       "      <td>0.031996</td>\n",
       "      <td>0.031992</td>\n",
       "      <td>0.032072</td>\n",
       "      <td>0.032106</td>\n",
       "      <td>0.032211</td>\n",
       "    </tr>\n",
       "  </tbody>\n",
       "</table>\n",
       "<p>1 rows × 38 columns</p>\n",
       "</div>"
      ],
      "text/plain": [
       "    No.       Color name       380       390       400       410       420  \\\n",
       "23   24  black 2 (1.5 D)  0.031118  0.031818  0.032134  0.032363  0.032572   \n",
       "\n",
       "         430       440       450  ...       640       650       660      670  \\\n",
       "23  0.032659  0.032684  0.032463  ...  0.031603  0.031615  0.031699  0.03184   \n",
       "\n",
       "         680       690       700       710       720       730  \n",
       "23  0.031998  0.031996  0.031992  0.032072  0.032106  0.032211  \n",
       "\n",
       "[1 rows x 38 columns]"
      ]
     },
     "execution_count": 13,
     "metadata": {},
     "output_type": "execute_result"
    }
   ],
   "source": [
    "spectra_df = pd.read_excel(\n",
    "    \"ColorChecker_RGB_and_spectra.xls\",\n",
    "    sheet_name=\"spectral_data\", skiprows=range(0, 1), nrows=24)\n",
    "spectra_df.tail(1)"
   ]
  },
  {
   "cell_type": "code",
   "execution_count": 14,
   "metadata": {},
   "outputs": [
    {
     "data": {
      "text/plain": [
       "(24, 36)"
      ]
     },
     "execution_count": 14,
     "metadata": {},
     "output_type": "execute_result"
    }
   ],
   "source": [
    "spectral_data = spectra_df.loc[:, spectra_df.columns[2:]].to_numpy(\n",
    "    dtype=np.float32)\n",
    "spectral_data.shape"
   ]
  },
  {
   "cell_type": "code",
   "execution_count": 15,
   "metadata": {},
   "outputs": [],
   "source": [
    "def spectral_to_rgb(spectral_data, illuminant, xyz_to_rgb):\n",
    "    wavelengths_index = [i for i in range(0, 360, 10)]\n",
    "    LB = (illuminant[wavelengths_index] * spectral_data).T\n",
    "    XYZ = xyzbar[wavelengths_index].T.dot(LB)\n",
    "    k = illuminant[wavelengths_index].dot(xyzbar[wavelengths_index, 1])\n",
    "    XYZ = XYZ / k\n",
    "    rgb = xyz_to_rgb.dot(XYZ)\n",
    "    y, x = np.array([(i, j) for i in range(4) for j in range(6)]).T\n",
    "    plt.scatter(x, y, c=np.clip(rgb, 0, 1).T, s=1500)"
   ]
  },
  {
   "cell_type": "code",
   "execution_count": 16,
   "metadata": {},
   "outputs": [
    {
     "data": {
      "image/png": "[encoded data removed]",
      "text/plain": [
       "<Figure size 432x288 with 1 Axes>"
      ]
     },
     "metadata": {
      "needs_background": "light"
     },
     "output_type": "display_data"
    }
   ],
   "source": [
    "spectral_to_rgb(spectral_data, cieD65, xyz_to_rgb)"
   ]
  }
 ],
 "metadata": {
  "kernelspec": {
   "display_name": "colorimetry_venv",
   "language": "python",
   "name": "colorimetry_venv"
  },
  "language_info": {
   "codemirror_mode": {
    "name": "ipython",
    "version": 3
   },
   "file_extension": ".py",
   "mimetype": "text/x-python",
   "name": "python",
   "nbconvert_exporter": "python",
   "pygments_lexer": "ipython3",
   "version": "3.7.3"
  }
 },
 "nbformat": 4,
 "nbformat_minor": 2
}
